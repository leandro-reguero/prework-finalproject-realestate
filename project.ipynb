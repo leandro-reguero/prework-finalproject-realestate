{
 "cells": [
  {
   "attachments": {},
   "cell_type": "markdown",
   "id": "innocent-university",
   "metadata": {},
   "source": [
    "# Real Estate Clean up\n",
    "\n",
    "This is a real dataset and it was downloaded using web scraping techniques. The data contains registers from fotocasa which is one of the most popular websites of real estate in Spain. Please, do not do this (web scraping) unless it is for academic purposes.\n",
    "\n",
    "The dataset was downloaded a few years ago by Henry Navarro and In no case were economic returns obtained from it.\n",
    "\n",
    "It contains thousands of data from real houses published on the web www.fotocasa.com. Your goal is to extract as much information as possible with the knowledge you have so far about data science, for example what is the most expensive house in the entire dataset?\n",
    "\n",
    "Let's start with precisely that question... Good luck!"
   ]
  },
  {
   "attachments": {},
   "cell_type": "markdown",
   "id": "multiple-glass",
   "metadata": {},
   "source": [
    "#### Exercise 00. Read the dataset assets/real_estate.csv and try to visualize the table (★☆☆)"
   ]
  },
  {
   "cell_type": "code",
   "execution_count": 3,
   "id": "frank-heath",
   "metadata": {},
   "outputs": [
    {
     "name": "stdout",
     "output_type": "stream",
     "text": [
      "       id_realEstates  isNew                    realEstate_name  \\\n",
      "0           153771986  False            ferrari 57 inmobiliaria   \n",
      "1           153867863  False  tecnocasa fuenlabrada ferrocarril   \n",
      "2           153430440  False                 look find boadilla   \n",
      "3           152776331  False  tecnocasa fuenlabrada ferrocarril   \n",
      "4           153180188  False            ferrari 57 inmobiliaria   \n",
      "...               ...    ...                                ...   \n",
      "15330       153901377  False                infocasa consulting   \n",
      "15331       150394373  False                inmobiliaria pulpon   \n",
      "15332       153901397  False             tecnocasa torrelodones   \n",
      "15333       152607440  False                inmobiliaria pulpon   \n",
      "15334       153901356  False                infocasa consulting   \n",
      "\n",
      "       phone_realEstate                                       url_inmueble  \\\n",
      "0           912177526.0  https://www.fotocasa.es/es/comprar/vivienda/ma...   \n",
      "1           916358736.0  https://www.fotocasa.es/es/comprar/vivienda/ma...   \n",
      "2           916350408.0  https://www.fotocasa.es/es/comprar/vivienda/ma...   \n",
      "3           916358736.0  https://www.fotocasa.es/es/comprar/vivienda/ma...   \n",
      "4           912177526.0  https://www.fotocasa.es/es/comprar/vivienda/ma...   \n",
      "...                 ...                                                ...   \n",
      "15330       911360461.0  https://www.fotocasa.es/es/comprar/vivienda/ma...   \n",
      "15331       912788039.0  https://www.fotocasa.es/es/comprar/vivienda/ma...   \n",
      "15332       912780348.0  https://www.fotocasa.es/es/comprar/vivienda/ma...   \n",
      "15333       912788039.0  https://www.fotocasa.es/es/comprar/vivienda/ma...   \n",
      "15334       911360461.0  https://www.fotocasa.es/es/comprar/vivienda/ma...   \n",
      "\n",
      "       rooms  bathrooms  surface   price                          date  ...  \\\n",
      "0        3.0        2.0    103.0  195000  2019-12-28T18:27:15.9975027Z  ...   \n",
      "1        3.0        1.0      NaN   89000  2019-12-28T18:27:15.9975027Z  ...   \n",
      "2        2.0        2.0     99.0  390000  2019-12-28T18:27:15.9975027Z  ...   \n",
      "3        3.0        1.0     86.0   89000  2019-12-28T18:27:15.9975027Z  ...   \n",
      "4        2.0        2.0    106.0  172000  2019-12-28T18:27:15.9975027Z  ...   \n",
      "...      ...        ...      ...     ...                           ...  ...   \n",
      "15330    2.0        1.0     96.0  259470          2019-12-17T18:19:00Z  ...   \n",
      "15331    3.0        1.0    150.0  165000          2019-12-17T18:19:00Z  ...   \n",
      "15332    4.0        2.0    175.0  495000          2019-12-17T18:19:00Z  ...   \n",
      "15333    3.0        2.0    101.0  195000          2019-12-17T18:18:00Z  ...   \n",
      "15334    3.0        2.0    152.0  765000          2019-12-17T18:17:00Z  ...   \n",
      "\n",
      "      level4Id level5Id level6Id level7Id level8Id accuracy          latitude  \\\n",
      "0            0        0        0        0        0        0  40,2948276786438   \n",
      "1            0        0        0        0        0        1          40,28674   \n",
      "2            0        0        0        0        0        0  40,4115646786438   \n",
      "3            0        0        0        0        0        0  40,2853785786438   \n",
      "4            0        0        0        0        0        0  40,2998774864376   \n",
      "...        ...      ...      ...      ...      ...      ...               ...   \n",
      "15330        0        0        0        0        0        0          40,45416   \n",
      "15331        0        0        0        0        0        0          40,36652   \n",
      "15332        0        0        0        0        0        0          40,57444   \n",
      "15333        0        0        0        0        0        0          40,36967   \n",
      "15334        0        0        0        0        0        0          40,45773   \n",
      "\n",
      "               longitude zipCode customZone  \n",
      "0      -3,44402412135624     NaN        NaN  \n",
      "1               -3,79351     NaN        NaN  \n",
      "2      -3,90662252135624     NaN        NaN  \n",
      "3      -3,79508142135624     NaN        NaN  \n",
      "4      -3,45226301356237     NaN        NaN  \n",
      "...                  ...     ...        ...  \n",
      "15330           -3,70286     NaN        NaN  \n",
      "15331           -3,48951     NaN        NaN  \n",
      "15332           -3,92124     NaN        NaN  \n",
      "15333           -3,48105     NaN        NaN  \n",
      "15334           -3,69068     NaN        NaN  \n",
      "\n",
      "[15335 rows x 36 columns]\n",
      "Index(['id_realEstates', 'isNew', 'realEstate_name', 'phone_realEstate',\n",
      "       'url_inmueble', 'rooms', 'bathrooms', 'surface', 'price', 'date',\n",
      "       'description', 'address', 'country', 'level1', 'level2', 'level3',\n",
      "       'level4', 'level5', 'level6', 'level7', 'level8', 'upperLevel',\n",
      "       'countryId', 'level1Id', 'level2Id', 'level3Id', 'level4Id', 'level5Id',\n",
      "       'level6Id', 'level7Id', 'level8Id', 'accuracy', 'latitude', 'longitude',\n",
      "       'zipCode'],\n",
      "      dtype='object')\n"
     ]
    }
   ],
   "source": [
    "import pandas as pd\n",
    "import numpy as np\n",
    "import matplotlib.pyplot as plt\n",
    "\n",
    "# this CSV file contains semicolons instead of comas as separator\n",
    "rsdata = pd.read_csv('assets/real_estate.csv', sep=';')\n",
    "rsdata = pd.DataFrame(rsdata)\n",
    "# reading the csv file\n",
    "\n",
    "del rsdata[\"Unnamed: 0\"]\n",
    "print(rsdata)\n",
    "print(rsdata.columns[0:-1])"
   ]
  },
  {
   "attachments": {},
   "cell_type": "markdown",
   "id": "latin-guest",
   "metadata": {},
   "source": [
    "#### Exercise 01. Which is the most expensive house in the dataset? (★☆☆)\n",
    "\n",
    "Print the address and the price of the selected house. For example:\n",
    "\n",
    "`The house with address General Street Nº5 is the most expensive and its price is 5000000 USD`"
   ]
  },
  {
   "cell_type": "code",
   "execution_count": 9,
   "id": "developing-optimum",
   "metadata": {},
   "outputs": [
    {
     "name": "stdout",
     "output_type": "stream",
     "text": [
      "The most expensive house costs 37435.89743589744 per sqm (total of 2920000) and is located in Calle de Alverja,  Madrid Capital\n",
      "The cheapest house costs 0.0 per sqm (total of 0) and is located in Parla\n",
      "\n",
      "If we are looking only at total price, the house with the highest total price is located in El Escorial and costs 8500000\n"
     ]
    }
   ],
   "source": [
    "rsdata[\"sqm_price\"] = rsdata['price']/rsdata['surface']\n",
    "# print(rsdata['sqm_price'].head())\n",
    "\n",
    "mostexp = rsdata['sqm_price'].max()\n",
    "most_exp_idx = rsdata[\"sqm_price\"].idxmax()\n",
    "\n",
    "top_price = rsdata[\"price\"].max()\n",
    "idx_top_price = rsdata[\"price\"].idxmax()\n",
    "\n",
    "\n",
    "print(f\"The most expensive house costs {round(mostexp)} per sqm (total price is {rsdata.loc[most_exp_idx, 'price']}) and is located in {rsdata.loc[most_exp_idx, 'address']}\")\n",
    "print(\"\")\n",
    "print(f\"If we are looking only at total price, the house with the highest total price is located in {rsdata.loc[idx_top_price, 'address']} and costs {top_price}\")\n",
    "\n",
    "\n"
   ]
  },
  {
   "attachments": {},
   "cell_type": "markdown",
   "id": "lesser-cosmetic",
   "metadata": {},
   "source": [
    "#### Exercise 02. Which is cheapest house in the dataset? (★☆☆)\n",
    "\n",
    "Print the address and the price of the selected house. For example:\n",
    "\n",
    "`The house with address Concrete Street Nº1 is the cheapest and its price is 12000 USD`"
   ]
  },
  {
   "cell_type": "code",
   "execution_count": 10,
   "id": "lovely-oasis",
   "metadata": {},
   "outputs": [
    {
     "name": "stdout",
     "output_type": "stream",
     "text": [
      "The cheapest house costs 0.0 per sqm (total of 0) and is located in Parla\n",
      "\n",
      "In terms of total price, the cheapest house is located in Parla and costs 0\n"
     ]
    }
   ],
   "source": [
    "# TODO\n",
    "\n",
    "cheap = rsdata['sqm_price'].min()\n",
    "cheap_exp_idx = rsdata['sqm_price'].idxmin()\n",
    "\n",
    "min_price = rsdata[\"price\"].min()\n",
    "idx_min_price = rsdata[\"price\"].idxmin()\n",
    "\n",
    "\n",
    "print(f\"The cheapest house costs {cheap} per sqm (total of {rsdata.loc[cheap_exp_idx, 'price']}) and is located in {rsdata.loc[cheap_exp_idx, 'address']}\")\n",
    "print(\"\")\n",
    "print(f\"In terms of total price, the cheapest house is located in {rsdata.loc[idx_min_price, 'address']} and costs {min_price}\")"
   ]
  },
  {
   "attachments": {},
   "cell_type": "markdown",
   "id": "compliant-fellowship",
   "metadata": {},
   "source": [
    "#### Exercise 03. Which is the biggest and the smallest house in the dataset? (★☆☆)\n",
    "\n",
    "Print both the address and the surface of the selected houses. For example:\n",
    "\n",
    "`The bigger house is located on Yukka Street Nº10 and its surface is 5000 meters`\n",
    "\n",
    "`The smaller house is located on County Road 1 N and its surface is 200 meters`"
   ]
  },
  {
   "cell_type": "code",
   "execution_count": 11,
   "id": "every-tiffany",
   "metadata": {},
   "outputs": [
    {
     "name": "stdout",
     "output_type": "stream",
     "text": [
      "The biggest house has a surface of 249000.0 and is located in Sevilla la Nueva\n",
      "The smallest house has a surface of 15.0 and is located in Calle Amparo,  Madrid Capital\n",
      "\n"
     ]
    }
   ],
   "source": [
    "# TODO\n",
    "biggest = rsdata['surface'].max()\n",
    "smallest = rsdata['surface'].min()\n",
    "\n",
    "print(f\"The biggest house has a surface of {biggest} and is located in {rsdata.loc[rsdata.surface == biggest, 'address'].values[0]}\")\n",
    "print(f\"The smallest house has a surface of {smallest} and is located in {rsdata.loc[rsdata.surface == smallest, 'address'].values[0]}\")\n",
    "print(\"\")\n"
   ]
  },
  {
   "attachments": {},
   "cell_type": "markdown",
   "id": "danish-spirit",
   "metadata": {},
   "source": [
    "#### Exercise 04. How many populations (level5 column) the dataset contains? (★☆☆)\n",
    "\n",
    "Print the name of the populations with comma as separator. For example:\n",
    "\n",
    "`> print(populations)`\n",
    "\n",
    "`population1, population2, population3,...`"
   ]
  },
  {
   "cell_type": "code",
   "execution_count": 12,
   "id": "exciting-accreditation",
   "metadata": {},
   "outputs": [
    {
     "name": "stdout",
     "output_type": "stream",
     "text": [
      "These are all the different populations: ['Arganda del Rey' 'Fuenlabrada' 'Boadilla del Monte'\n",
      " 'Las Rozas de Madrid' ' Madrid Capital' 'Villaviciosa de Odón' 'Pinto'\n",
      " 'Valdemoro' 'Navalcarnero' 'Pozuelo de Alarcón' 'Torrejón de Ardoz'\n",
      " 'Navalagamella' 'San Sebastián de los Reyes' 'Rivas-vaciamadrid'\n",
      " 'Alpedrete' 'Móstoles' 'San Fernando de Henares' 'Coslada'\n",
      " 'Becerril de la Sierra' 'Alcalá de Henares' 'Chinchón' 'Parla' 'Alcorcón'\n",
      " 'El Escorial' 'Leganés' 'Pedrezuela' 'Majadahonda'\n",
      " 'Villanueva de la Cañada' 'Villanueva del Pardillo' 'Torrelodones'\n",
      " 'Moralzarzal' 'Mejorada del Campo' 'Aranjuez' 'Corpa' 'Getafe'\n",
      " 'Velilla de San Antonio' 'Sevilla la Nueva' 'San Martín de la Vega'\n",
      " 'Villalbilla' 'Collado Villalba' 'Alcobendas' 'El Molar (Madrid)'\n",
      " 'Moraleja de Enmedio' 'Algete' 'Campo Real' 'Torrejón de la Calzada'\n",
      " 'Colmenar Viejo' 'Valdemorillo' 'Fuente El Saz de Jarama' 'Tres Cantos'\n",
      " 'Arroyomolinos (Madrid)' 'Griñón' 'Paracuellos de Jarama' 'Guadarrama'\n",
      " 'Titulcia' 'Galapagar' 'Collado Mediano' 'Los Molinos'\n",
      " 'San Lorenzo de El Escorial' 'Loeches' 'San Martín de Valdeiglesias'\n",
      " 'Navas del Rey' 'Bustarviejo' 'Manzanares El Real' 'Carabaña'\n",
      " 'Casarrubuelos' 'Cercedilla' 'Fresnedillas de la Oliva' 'Valdemaqueda'\n",
      " 'Robledo de Chavela' 'Miraflores de la Sierra' 'Humanes de Madrid'\n",
      " 'Valdetorres de Jarama' 'San Agustín del Guadalix' 'Ciempozuelos'\n",
      " 'Camarma de Esteruelas' 'Torres de la Alameda' 'Talamanca de Jarama'\n",
      " 'El Atazar' 'Hoyo de Manzanares' 'El Boalo - Cerceda – Mataelpino'\n",
      " 'El Álamo' 'Valdilecha' 'Valdeolmos-Alalpardo' 'Guadalix de la Sierra'\n",
      " 'Belmonte de Tajo' 'El Vellón' 'Brunete' 'Redueña' 'Morata de Tajuña'\n",
      " 'Tielmes' 'Gargantilla del Lozoya' 'Meco' 'Venturada' 'Quijorna'\n",
      " 'Cenicientos' 'Torrejón de Velasco' 'Navacerrada'\n",
      " 'Santa María de la Alameda' 'Orusco de Tajuña' 'Daganzo de Arriba'\n",
      " 'Villamanta' 'Anchuelo' 'Valdaracete' 'Ajalvir' 'Los Santos de la Humosa'\n",
      " 'Villamanrique de Tajo' 'Colmenar de Oreja' 'Villa del Prado'\n",
      " 'Fuentidueña de Tajo' 'Colmenar del Arroyo' 'Valdelaguna'\n",
      " 'Cubas de la Sagra' 'Valdeavero' 'Aldea del Fresno' 'Ribatejada'\n",
      " 'Torrelaguna' 'Batres' 'Pezuela de las Torres' 'Colmenarejo'\n",
      " 'Serranillos del Valle' 'Cobeña' 'Soto del Real' 'El Berrueco'\n",
      " 'Villanueva de Perales' 'Fresno de Torote - Serracines' 'Pozuelo del Rey'\n",
      " 'Pelayos de la Presa' 'La Cabrera' 'Nuevo Baztán' 'Perales de Tajuña'\n",
      " 'Villaconejos' 'Villarejo de Salvanés' 'Cadalso de los Vidrios'\n",
      " 'Santorcaz' 'Madarcos' 'Garganta de los Montes' 'Puentes Viejas'\n",
      " 'Torremocha de Jarama' 'Valdemanco' 'Braojos'\n",
      " 'Lozoyuela-navas-sieteiglesias' 'Piñuécar-gandullas' 'Valdepiélagos'\n",
      " 'Valverde de Alcalá' 'Villar del Olmo' 'Villamantilla'\n",
      " 'Horcajo de la Sierra' 'Gascones' 'Zarzalejo' 'Villavieja del Lozoya'\n",
      " 'Brea de Tajo' 'Estremera' 'Chapinería' 'Navarredonda' 'Patones' 'Ambite'\n",
      " 'Navalafuente' 'Lozoya' 'Canencia' 'Cabanillas de la Sierra'\n",
      " 'Buitrago del Lozoya' 'Fresno de Torote' 'Robregordo' 'Pinilla del Valle'\n",
      " 'Rascafría' 'La Hiruela' 'Montejo de la Sierra']\n",
      "\n",
      "The number of different populations is 168\n",
      "\n"
     ]
    }
   ],
   "source": [
    "# TODO\n",
    "print(f\"These are all the different populations: {rsdata.level5.unique()}\")\n",
    "print(\"\")\n",
    "print(f\"The number of different populations is {len(rsdata.level5.unique())}\")\n",
    "print(\"\")"
   ]
  },
  {
   "attachments": {},
   "cell_type": "markdown",
   "id": "crazy-blame",
   "metadata": {},
   "source": [
    "#### Exercise 05. Does the dataset contain NAs? (★☆☆)\n",
    "\n",
    "Print a boolean value (`true` or `fase`) followed by the rows/cols that contains NAs."
   ]
  },
  {
   "cell_type": "code",
   "execution_count": 13,
   "id": "transparent-poetry",
   "metadata": {},
   "outputs": [
    {
     "name": "stdout",
     "output_type": "stream",
     "text": [
      "id_realEstates          0\n",
      "isNew                   0\n",
      "realEstate_name        10\n",
      "phone_realEstate      794\n",
      "url_inmueble            0\n",
      "rooms                 353\n",
      "bathrooms             345\n",
      "surface              1250\n",
      "price                   0\n",
      "date                    0\n",
      "description           142\n",
      "address                 0\n",
      "country                 0\n",
      "level1                  0\n",
      "level2                  0\n",
      "level3                  0\n",
      "level4               6643\n",
      "level5                  0\n",
      "level6              14627\n",
      "level7               2277\n",
      "level8               8579\n",
      "upperLevel              0\n",
      "countryId               0\n",
      "level1Id                0\n",
      "level2Id                0\n",
      "level3Id                0\n",
      "level4Id                0\n",
      "level5Id                0\n",
      "level6Id                0\n",
      "level7Id                0\n",
      "level8Id                0\n",
      "accuracy                0\n",
      "latitude                0\n",
      "longitude               0\n",
      "zipCode             15335\n",
      "customZone          15335\n",
      "sqm_price            1250\n",
      "dtype: int64\n"
     ]
    }
   ],
   "source": [
    "# TODO\n",
    "print(rsdata.isnull().sum())"
   ]
  },
  {
   "attachments": {},
   "cell_type": "markdown",
   "id": "italic-hydrogen",
   "metadata": {},
   "source": [
    "#### Exercise 06. Delete the NAs of the dataset, if applicable (★★☆)\n",
    "\n",
    "Print a comparison between the dimensions of the original DataFrame versus the DataFrame after the deletions"
   ]
  },
  {
   "cell_type": "code",
   "execution_count": 16,
   "id": "administrative-roads",
   "metadata": {},
   "outputs": [
    {
     "name": "stdout",
     "output_type": "stream",
     "text": [
      "(15335, 37)\n",
      "(0, 37)\n"
     ]
    }
   ],
   "source": [
    "# TODO\n",
    "print(rsdata.shape)\n",
    "rsdata_clean = rsdata.dropna()\n",
    "print(rsdata_clean.shape)"
   ]
  },
  {
   "attachments": {},
   "cell_type": "markdown",
   "id": "middle-china",
   "metadata": {},
   "source": [
    "#### Exercise 07. Which is the mean of prices in the population (level5 column) of \"Arroyomolinos (Madrid)\"? (★★☆)\n",
    "\n",
    "Print the obtained value"
   ]
  },
  {
   "cell_type": "code",
   "execution_count": 25,
   "id": "nuclear-belief",
   "metadata": {},
   "outputs": [
    {
     "name": "stdout",
     "output_type": "stream",
     "text": [
      "The mean price in Arroyomolinos is: 1491.735\n",
      "We can observe, that most prices for square meter in Arroyomolinos (Madrid) range from 1000€/sqm to 2200€/sqm approx\n"
     ]
    },
    {
     "data": {
      "image/png": "[encoded data removed]",
      "text/plain": [
       "<Figure size 1000x500 with 1 Axes>"
      ]
     },
     "metadata": {},
     "output_type": "display_data"
    }
   ],
   "source": [
    "# TODO\n",
    "arro = rsdata[rsdata[\"level5\"] == \"Arroyomolinos (Madrid)\"]\n",
    "\n",
    "print(f\"The mean price in Arroyomolinos is: {round(arro['sqm_price'].mean(), 3)}\")\n",
    "\n",
    "\n",
    "data_arroprice = arro[\"sqm_price\"]\n",
    "\n",
    "plt.figure(figsize=(10, 5))\n",
    "plt.hist(data_arroprice, bins=40, alpha=0.8)\n",
    "plt.title(\"Precios en Arroyomolinos (Madrid)\")\n",
    "# plt.show()\n",
    "\n",
    "print(\"We can observe, that most prices for square meter in Arroyomolinos (Madrid) range from 1000€/sqm to 2200€/sqm approx\")\n"
   ]
  },
  {
   "attachments": {},
   "cell_type": "markdown",
   "id": "concerned-radical",
   "metadata": {},
   "source": [
    "#### Exercise 08. Plot the histogram of prices for the population (level5 column) of \"Arroyomolinos (Madrid)\" and explain what you observe (★★☆)\n",
    "\n",
    "Print the histogram of the prices and write in the Markdown cell a brief analysis about the plot."
   ]
  },
  {
   "cell_type": "code",
   "execution_count": 23,
   "id": "sudden-message",
   "metadata": {},
   "outputs": [],
   "source": [
    "# TODO: Code\n",
    "# see exercise above"
   ]
  },
  {
   "attachments": {},
   "cell_type": "markdown",
   "id": "impressed-combination",
   "metadata": {},
   "source": [
    "**TODO: Markdown**. The average prices in Valdemorillo and Galapagar is very similar, the small difference is printed above."
   ]
  },
  {
   "attachments": {},
   "cell_type": "markdown",
   "id": "actual-edinburgh",
   "metadata": {},
   "source": [
    "#### Exercise 09. Are the averages of \"Valdemorillo\" and \"Galapagar\" prices the same? (★★☆)\n",
    "\n",
    "Print the both average prices and then write a conclusion about them"
   ]
  },
  {
   "cell_type": "code",
   "execution_count": 24,
   "id": "numeric-commerce",
   "metadata": {},
   "outputs": [
    {
     "name": "stdout",
     "output_type": "stream",
     "text": [
      "The avg price in Valdemorillo is: 363860.29\n",
      "The avg price in Galapagar is: 360063.2\n",
      "The average prices in Valdemorillo and Galapagar is very similar, the diference is 3797.09\n"
     ]
    }
   ],
   "source": [
    "# TODO\n",
    "vald = rsdata[rsdata['level5'] == \"Valdemorillo\"]\n",
    "gal = rsdata[rsdata['level5'] == \"Galapagar\"]\n",
    "\n",
    "val_mean = round(vald['price'].mean(), 2)\n",
    "gal_mean = round(gal['price'].mean(), 2)\n",
    "print(f\"The avg price in Valdemorillo is: {val_mean}\")\n",
    "print(f\"The avg price in Galapagar is: {gal_mean}\")\n",
    "print(f\"The average prices in Valdemorillo and Galapagar is very similar, the diference is {round(val_mean - gal_mean, 2)}\")\n",
    "\n",
    "avg_pps_val = vald[\"sqm_price\"].mean()\n",
    "avg_pps_gal = gal[\"sqm_price\"].mean()"
   ]
  },
  {
   "attachments": {},
   "cell_type": "markdown",
   "id": "lonely-article",
   "metadata": {},
   "source": [
    "#### Exercise 10. Are the averages of \"Valdemorillo\" and \"Galapagar\" price per square meter (price/m2) the same? (★★☆)\n",
    "\n",
    "Print the both average prices and then write a conclusion about\n",
    "\n",
    "Hint: Create a new column called `pps` (price per square) and then analyse the values"
   ]
  },
  {
   "cell_type": "code",
   "execution_count": 26,
   "id": "hourly-globe",
   "metadata": {},
   "outputs": [
    {
     "name": "stdout",
     "output_type": "stream",
     "text": [
      "1606.3240303094024\n",
      "1317.9502109024986\n",
      "The average between both populations square meters is similar, but not the same.\n",
      "The difference between both is 288.37\n"
     ]
    }
   ],
   "source": [
    "# TODO\n",
    "print(avg_pps_gal)\n",
    "print(avg_pps_val)\n",
    "print(f\"The average between both populations square meters is similar, but not the same.\")\n",
    "print(f\"The difference between both is {abs(round((avg_pps_val - avg_pps_gal), 2))}\")\n"
   ]
  },
  {
   "attachments": {},
   "cell_type": "markdown",
   "id": "pleasant-invite",
   "metadata": {},
   "source": [
    "#### Exercise 11. Analyse the relation between the surface and the price of the houses (★★☆)\n",
    "\n",
    "Hint: You can make a `scatter plot` and then write a conclusion about it"
   ]
  },
  {
   "cell_type": "code",
   "execution_count": 27,
   "id": "common-drilling",
   "metadata": {},
   "outputs": [
    {
     "data": {
      "image/png": "[encoded data removed]",
      "text/plain": [
       "<Figure size 1000x500 with 1 Axes>"
      ]
     },
     "metadata": {},
     "output_type": "display_data"
    },
    {
     "name": "stdout",
     "output_type": "stream",
     "text": [
      "The relationship between surface and price is proportional, i.e., the larger the surface, the more expensive the house is.\n"
     ]
    }
   ],
   "source": [
    "# TODO: Code\n",
    "\n",
    "precio_per_square_VAL_all = vald['sqm_price']\n",
    "precio_per_square_GAL_all = gal['sqm_price']\n",
    "precio_VAL_all = (vald['price'])\n",
    "precio_GAL_all = (gal['price'])\n",
    "\n",
    "plt.figure(figsize = (10, 5))\n",
    "plt.scatter(vald[\"surface\"] , vald[\"price\"], label=\"Valdemorillo\")\n",
    "plt.scatter(gal[\"surface\"], gal[\"price\"], label=\"Galapagar\")\n",
    "plt.xlim(0,1000)\n",
    "plt.title(\"relacion surface / house valdemorillo\")\n",
    "plt.legend()\n",
    "plt.show()\n",
    "print(\"The relationship between surface and price is proportional, i.e., the larger the surface, the more expensive the house is.\")"
   ]
  },
  {
   "attachments": {},
   "cell_type": "markdown",
   "id": "ahead-liquid",
   "metadata": {},
   "source": [
    "**TODO: Markdown**. To write here, double click to this cell and just remove this content and place the text you want to write. Then, execute the cell."
   ]
  },
  {
   "attachments": {},
   "cell_type": "markdown",
   "id": "coordinate-sunrise",
   "metadata": {},
   "source": [
    "#### Exercise 12. How many real estate agencies the dataset contains? (★★☆)\n",
    "\n",
    "Print the obtained value"
   ]
  },
  {
   "cell_type": "code",
   "execution_count": 28,
   "id": "valid-honolulu",
   "metadata": {},
   "outputs": [
    {
     "name": "stdout",
     "output_type": "stream",
     "text": [
      "El numero de agencias es 1822\n"
     ]
    }
   ],
   "source": [
    "# TODO\n",
    "agen = rsdata[\"realEstate_name\"].unique()\n",
    "print(f\"El numero de agencias es {len(agen)}\")"
   ]
  },
  {
   "attachments": {},
   "cell_type": "markdown",
   "id": "binding-ebony",
   "metadata": {},
   "source": [
    "#### Exercise 13. Which is the population (level5 column) that contains the most houses? (★★☆)\n",
    "\n",
    "Print both the population and the number of houses"
   ]
  },
  {
   "cell_type": "code",
   "execution_count": 29,
   "id": "static-perry",
   "metadata": {},
   "outputs": [
    {
     "name": "stdout",
     "output_type": "stream",
     "text": [
      "The population with the largest amount of houses is  Madrid Capital with 6643 houses on sale\n"
     ]
    }
   ],
   "source": [
    "# TODO\n",
    "print(f\"The population with the largest amount of houses is {rsdata['level5'].value_counts().idxmax()} with {rsdata['level5'].value_counts().max()} houses on sale\")\n"
   ]
  },
  {
   "attachments": {},
   "cell_type": "markdown",
   "id": "entire-classification",
   "metadata": {},
   "source": [
    "#### Exercise 14. Now let's work with the \"south belt\" of madrid. Make a subset of the original DataFrame that contains the following populations (level5 column): \"Fuenlabrada\",\"Leganés\",\"Getafe\",\"Alcorcón\" (★★☆)\n",
    "\n",
    "Hint: Filter the original DataFrame using the column `level5` and the function `isin`"
   ]
  },
  {
   "cell_type": "code",
   "execution_count": 30,
   "id": "binary-input",
   "metadata": {},
   "outputs": [
    {
     "name": "stdout",
     "output_type": "stream",
     "text": [
      "1         89000\n",
      "3         89000\n",
      "85       107000\n",
      "94       320000\n",
      "109      425000\n",
      "          ...  \n",
      "15275    138000\n",
      "15291    279000\n",
      "15305    170000\n",
      "15322    112000\n",
      "15325    215000\n",
      "Name: price, Length: 907, dtype: int64\n"
     ]
    }
   ],
   "source": [
    "# TODO\n",
    "sbelt = rsdata[rsdata[\"level5\"].isin([\"Fuenlabrada\", \"Leganés\", \"Getafe\", \"Alcorcón\"])]\n",
    "print(sbelt['price'])\n",
    "fuenla = rsdata[rsdata[\"level5\"].isin([\"Fuenlabrada\"])]\n",
    "lega = rsdata[rsdata[\"level5\"].isin([\"Leganés\"])]\n",
    "geta = rsdata[rsdata[\"level5\"].isin([\"Getafe\"])]\n",
    "alco = rsdata[rsdata[\"level5\"].isin([\"Alcorcón\"])]"
   ]
  },
  {
   "attachments": {},
   "cell_type": "markdown",
   "id": "severe-fisher",
   "metadata": {},
   "source": [
    "#### Exercise 15. Make a bar plot of the median of the prices and explain what you observe (you must use the subset obtained in the question 14) (★★★)\n",
    "\n",
    "Print the bar of the median of the prices and write in the Markdown cell a brief analysis about the plot"
   ]
  },
  {
   "cell_type": "code",
   "execution_count": 32,
   "id": "lyric-bunch",
   "metadata": {},
   "outputs": [
    {
     "data": {
      "image/png": "[encoded data removed]",
      "text/plain": [
       "<Figure size 1000x500 with 1 Axes>"
      ]
     },
     "metadata": {},
     "output_type": "display_data"
    },
    {
     "name": "stdout",
     "output_type": "stream",
     "text": [
      "We can see that the area from the soutbelt with the most expensive houses is Getafe(265040), and the cheapest is Fuenlabrada (177198.02).\n",
      "The average price of the houses in the southbelt is 223094.48\n"
     ]
    },
    {
     "data": {
      "image/png": "[encoded data removed]",
      "text/plain": [
       "<Figure size 1000x500 with 1 Axes>"
      ]
     },
     "metadata": {},
     "output_type": "display_data"
    },
    {
     "name": "stdout",
     "output_type": "stream",
     "text": [
      "\n",
      "If we take a look at the price per square meters, Alcorcón (2239.3) has the most expensive sq-meter, while Fuenlabrada (1796.73) remains the cheapest.\n",
      "The average price for sq-meter in the southbelt is 2032.65\n"
     ]
    }
   ],
   "source": [
    "# TODO: Code\n",
    "plt.figure(figsize=(10,5))\n",
    "plt.bar(\"Fuenlabrada\", fuenla['price'].mean())\n",
    "plt.bar(\"Leganés\", lega[\"price\"].mean())\n",
    "plt.bar(\"Getafe\", geta['price'].mean())\n",
    "plt.bar(\"Alcorcón\", alco['price'].mean())\n",
    "plt.title('mean prices in southbelt')\n",
    "plt.show()\n",
    "print(f\"We can see that the area from the soutbelt with the most expensive houses is Getafe({round(geta['price'].mean())}), and the cheapest is Fuenlabrada ({round(fuenla['price'].mean(), 2)}).\")\n",
    "print(f\"The average price of the houses in the southbelt is {round(sbelt['price'].mean(), 2)}\")\n",
    "\n",
    "plt.figure(figsize=(10,5))\n",
    "plt.bar(\"Fuenlabrada\", fuenla['sqm_price'].mean())\n",
    "plt.bar(\"Leganés\", lega[\"sqm_price\"].mean())\n",
    "plt.bar(\"Getafe\", geta['sqm_price'].mean())\n",
    "plt.bar(\"Alcorcón\", alco['sqm_price'].mean())\n",
    "plt.title('mean sqm_prices in southbelt')\n",
    "plt.show()\n",
    "\n",
    "print(\"\")\n",
    "print(f\"If we take a look at the price per square meters, Alcorcón ({round(alco['sqm_price'].mean(), 2)}) has the most expensive sq-meter, while Fuenlabrada ({round(fuenla['sqm_price'].mean(), 2)}) remains the cheapest.\")\n",
    "print(f\"The average price for sq-meter in the southbelt is {round(sbelt['sqm_price'].mean(), 2)}\")"
   ]
  },
  {
   "attachments": {},
   "cell_type": "markdown",
   "id": "sublime-newspaper",
   "metadata": {},
   "source": [
    "**TODO: Markdown**. To write here, double click to this cell and just remove this content and place the text you want to write. Then, execute the cell."
   ]
  },
  {
   "attachments": {},
   "cell_type": "markdown",
   "id": "speaking-diamond",
   "metadata": {},
   "source": [
    "#### Exercise 16. Calculate the sample mean and variance of the variables: price, rooms, surface area and bathrooms (you must use the subset obtained in the question 14) (★★★)\n",
    "\n",
    "Print both values for each variable"
   ]
  },
  {
   "cell_type": "code",
   "execution_count": 33,
   "id": "random-feeling",
   "metadata": {},
   "outputs": [
    {
     "name": "stdout",
     "output_type": "stream",
     "text": [
      "STATISTICS FOR THE SOUTHBELT OF MADRID\n",
      "                Price  Rooms  Surface  Bathrooms\n",
      "mean           223094   3.02   111.75       1.63\n",
      "variance  14921367508   0.72  4263.05       0.57\n"
     ]
    }
   ],
   "source": [
    "# TODO\n",
    "print(f\"STATISTICS FOR THE SOUTHBELT OF MADRID\")\n",
    "\n",
    "datita = {\n",
    "    \"Price\": [round(sbelt[\"price\"].mean()), round(sbelt[\"price\"].var())],\n",
    "    \"Rooms\": [round(sbelt[\"rooms\"].mean(), 2), round(sbelt[\"rooms\"].var(), 2)],\n",
    "    \"Surface\": [round(sbelt[\"surface\"].mean(), 2), round(sbelt[\"surface\"].var(), 2)],\n",
    "    \"Bathrooms\": [round(sbelt[\"bathrooms\"].mean(), 2), round(sbelt[\"bathrooms\"].var(), 2)]\n",
    "}\n",
    "stats = pd.DataFrame(datita, [\"mean\", \"variance\"])\n",
    "print(stats)"
   ]
  },
  {
   "attachments": {},
   "cell_type": "markdown",
   "id": "revolutionary-matrix",
   "metadata": {},
   "source": [
    "#### Exercise 17. What is the most expensive house of each population? You must use the subset obtained in the question 14 (★★☆)\n",
    "\n",
    "Print both the address and the price of the selected house of each population. You can print a DataFrame or a single line for each population"
   ]
  },
  {
   "cell_type": "code",
   "execution_count": 34,
   "id": "fifteen-browse",
   "metadata": {},
   "outputs": [
    {
     "name": "stdout",
     "output_type": "stream",
     "text": [
      "                                   Fuenlabrada                       Leganés  \\\n",
      "Address  Calle de Paulo Freire, 5, Fuenlabrada  Avenida Reina Sofía, Leganés   \n",
      "Price                                   490000                        650000   \n",
      "\n",
      "          Getafe  Alcorcón  \n",
      "Address   Getafe  Alcorcón  \n",
      "Price    1050000    950000  \n"
     ]
    }
   ],
   "source": [
    "# TODO\n",
    "expensive_sbelt = {\n",
    "    \"Fuenlabrada\": [fuenla.loc[fuenla['price'].idxmax(), 'address'], fuenla[\"price\"].max()],\n",
    "    \"Leganés\": [lega.loc[lega['price'].idxmax(), 'address'], lega[\"price\"].max()], \n",
    "    \"Getafe\": [geta.loc[geta['price'].idxmax(), 'address'], geta[\"price\"].max()],\n",
    "    \"Alcorcón\": [alco.loc[alco['price'].idxmax(), 'address'], alco[\"price\"].max()]\n",
    "}\n",
    "\n",
    "df_exp_sbelt = pd.DataFrame(expensive_sbelt, [\"Address\", \"Price\"])\n",
    "\n",
    "print(df_exp_sbelt)"
   ]
  },
  {
   "attachments": {},
   "cell_type": "markdown",
   "id": "activated-knight",
   "metadata": {},
   "source": [
    "#### Exercise 18. Normalize the variable of prices for each population and plot the 4 histograms in the same plot (you must use the subset obtained in the question 14) (★★★)\n",
    "\n",
    "For the normalization method you can use the one you consider to, there is not a single correct answer to this question. Print the plot and write in the Markdown cell a brief analysis about the plot\n",
    "\n",
    "Hint: You can help yourself reviewing the multihist demo of Matplotlib"
   ]
  },
  {
   "cell_type": "code",
   "execution_count": 36,
   "id": "civic-meditation",
   "metadata": {},
   "outputs": [
    {
     "data": {
      "image/png": "[encoded data removed]",
      "text/plain": [
       "<Figure size 1500x800 with 4 Axes>"
      ]
     },
     "metadata": {},
     "output_type": "display_data"
    }
   ],
   "source": [
    "# TODO\n",
    "alphanum = 0.5\n",
    "binsnum = 40\n",
    "\n",
    "# Normalizing variables for each population\n",
    "fuenla_price_norm = (fuenla[\"price\"] - fuenla[\"price\"].mean()) / fuenla[\"price\"].std()\n",
    "lega_price_norm = (lega[\"price\"] - lega[\"price\"].mean()) / lega[\"price\"].std()\n",
    "geta_price_norm = (geta[\"price\"] - geta[\"price\"].mean()) / geta[\"price\"].std()\n",
    "alco_price_norm = (alco[\"price\"] - alco[\"price\"].mean()) / alco[\"price\"].std()\n",
    "\n",
    "\n",
    "# Creating the histogram with each subplot\n",
    "fig, axs = plt.subplots(2, 2, figsize=(15, 8))\n",
    "\n",
    "axs[0, 0].hist(fuenla_price_norm, bins=binsnum, alpha= alphanum, label=\"Fuenlabrada\", color=\"red\")\n",
    "axs[0, 0].set_title(\"Fuenlabrada\")\n",
    "axs[0, 1].hist(lega_price_norm, bins=binsnum, alpha= alphanum, label=\"Leganés\", color=\"yellow\")\n",
    "axs[0, 1].set_title(\"Leganés\")\n",
    "axs[1, 0].hist(geta_price_norm, bins=binsnum, alpha= alphanum, label=\"Getafe\", color=\"green\")\n",
    "axs[1, 0].set_title(\"Getafe\")\n",
    "axs[1, 1].hist(alco_price_norm, bins=binsnum, alpha= alphanum, label=\"Alcorcón\", color=\"blue\")\n",
    "axs[1, 1].set_title(\"Alcorcón\")\n",
    "\n",
    "plt.show()"
   ]
  },
  {
   "attachments": {},
   "cell_type": "markdown",
   "id": "precise-heavy",
   "metadata": {},
   "source": [
    "**TODO: Markdown**. To write here, double click to this cell and just remove this content and place the text you want to write. Then, execute the cell."
   ]
  },
  {
   "attachments": {},
   "cell_type": "markdown",
   "id": "patent-jonathan",
   "metadata": {},
   "source": [
    "#### Exercise 19. What can you say about the price per square meter (price/m2) between the towns of \"Getafe\" and \"Alcorcón\"? You must use the subset obtained in the question 14 (★★☆)\n",
    "\n",
    "Hint: Create a new column called `pps` (price per square) and then analyse the values"
   ]
  },
  {
   "cell_type": "code",
   "execution_count": 37,
   "id": "initial-liverpool",
   "metadata": {},
   "outputs": [
    {
     "name": "stdout",
     "output_type": "stream",
     "text": [
      "          Getafe  Alcorcón\n",
      "Mean     2066.31   2239.30\n",
      "Minimum     0.00    604.76\n",
      "Maximum  3827.16   3698.16\n"
     ]
    }
   ],
   "source": [
    "# TODO\n",
    "comparison = {\n",
    "    \"Getafe\": [geta[\"sqm_price\"].mean(), geta[\"sqm_price\"].min(), geta[\"sqm_price\"].max()],\n",
    "    \"Alcorcón\": [alco[\"sqm_price\"].mean(), alco[\"sqm_price\"].min(), alco[\"sqm_price\"].max()]\n",
    "}\n",
    "\n",
    "comp_alcoget = pd.DataFrame(comparison, [\"Mean\", \"Minimum\", \"Maximum\"])\n",
    "comp_alcoget_redondo = np.round(comp_alcoget, 2)\n",
    "print(comp_alcoget_redondo)"
   ]
  },
  {
   "attachments": {},
   "cell_type": "markdown",
   "id": "enhanced-moscow",
   "metadata": {},
   "source": [
    "#### Exercise 20. Make the same plot for 4 different populations (level5 column) and rearrange them on the same graph? You must use the subset obtained in the question 14 (★★☆) \n",
    "Hint: make a scatter plot of each population using subplots."
   ]
  },
  {
   "cell_type": "code",
   "execution_count": 38,
   "id": "accepting-airfare",
   "metadata": {},
   "outputs": [
    {
     "data": {
      "image/png": "[encoded data removed]",
      "text/plain": [
       "<Figure size 640x480 with 4 Axes>"
      ]
     },
     "metadata": {},
     "output_type": "display_data"
    }
   ],
   "source": [
    "# TODO\n",
    "fig, axs = plt.subplots(2, 2)\n",
    "axs[0, 0].hist(fuenla[\"price\"], bins=binsnum, alpha= alphanum, label=\"Fuenlabrada\", color=\"red\")\n",
    "axs[0, 0].set_title(\"Fuenlabrada\")\n",
    "axs[0, 1].hist(lega[\"price\"], bins=binsnum, alpha= alphanum, label=\"Leganés\", color=\"yellow\")\n",
    "axs[0, 1].set_title(\"Leganés\")\n",
    "axs[1, 0].hist(geta[\"price\"], bins=binsnum, alpha= alphanum, label=\"Getafe\", color=\"green\")\n",
    "axs[1, 0].set_title(\"Getafe\")\n",
    "axs[1, 1].hist(alco[\"price\"], bins=binsnum, alpha= alphanum, label=\"Alcorcón\", color=\"blue\")\n",
    "axs[1, 1].set_title(\"Alcorcón\")\n",
    "plt.tight_layout()\n",
    "plt.show()"
   ]
  },
  {
   "attachments": {},
   "cell_type": "markdown",
   "id": "blocked-effects",
   "metadata": {},
   "source": [
    "#### Exercise 21. Make a plot of the coordinates (latitude and longitude columns) of the south belt of Madrid by color of each population (you must use the subset obtained in the question 14) (★★★★)\n",
    "\n",
    "Execute the following cell and then start coding in the next one. You must implement a simple code that transform the coordinates columns in a Python dictionary (add more information if needed) and then add it to the map"
   ]
  },
  {
   "cell_type": "code",
   "execution_count": 40,
   "id": "headed-privacy",
   "metadata": {},
   "outputs": [],
   "source": [
    "from ipyleaflet import Map, basemaps, Marker\n",
    "\n",
    "# Map centred on (60 degrees latitude et -2.2 degrees longitude)\n",
    "# Latitude, longitude\n",
    "# map = Map(center = (60, -2.2), zoom = 2, min_zoom = 1, max_zoom = 20, basemap = basemaps.Stamen.Terrain)\n",
    "# map"
   ]
  },
  {
   "cell_type": "code",
   "execution_count": 43,
   "id": "present-mistress",
   "metadata": {},
   "outputs": [
    {
     "data": {
      "application/vnd.jupyter.widget-view+json": {
       "model_id": "ba2a02faf9004f5eb897fab86d749e17",
       "version_major": 2,
       "version_minor": 0
      },
      "text/plain": [
       "Map(center=[40.416775, -3.70379], controls=(ZoomControl(options=['position', 'zoom_in_text', 'zoom_in_title', …"
      ]
     },
     "execution_count": 43,
     "metadata": {},
     "output_type": "execute_result"
    }
   ],
   "source": [
    "## HERE: plot the coordinates of the estates\n",
    "\n",
    "## PUT HERE YOUR CODE:\n",
    "map2 = Map(center = (40.416775, -3.703790), zoom = 5, min_zoom = 1, max_zoom = 20, basemap = basemaps.Esri.WorldStreetMap, scroll_wheel_zoom= True)\n",
    "for (index, row) in sbelt.iterrows(): \n",
    "    mark = Marker(location=[float(row.loc['latitude'].replace(\",\", \".\")), float(row.loc[\"longitude\"].replace(\",\",\".\"))], \n",
    "                  title=row.loc[\"level5\"])\n",
    "    map2.add_layer(mark)\n",
    "\n",
    "map2 \n"
   ]
  }
 ],
 "metadata": {
  "kernelspec": {
   "display_name": "Python 3",
   "language": "python",
   "name": "python3"
  },
  "language_info": {
   "codemirror_mode": {
    "name": "ipython",
    "version": 3
   },
   "file_extension": ".py",
   "mimetype": "text/x-python",
   "name": "python",
   "nbconvert_exporter": "python",
   "pygments_lexer": "ipython3",
   "version": "3.11.4"
  }
 },
 "nbformat": 4,
 "nbformat_minor": 5
}
